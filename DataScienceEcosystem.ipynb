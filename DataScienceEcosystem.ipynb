{
 "cells": [
  {
   "cell_type": "markdown",
   "id": "b27cd62b-a218-4eee-869c-e52a2c0b9beb",
   "metadata": {},
   "source": [
    "# Data Science Tools and Ecosystem."
   ]
  },
  {
   "cell_type": "markdown",
   "id": "c53d2980-912b-491b-9aed-72b7b26d6fee",
   "metadata": {},
   "source": [
    "In this notebook, Data Science Tools and Ecosystem are summarized."
   ]
  },
  {
   "cell_type": "markdown",
   "id": "b015ebbc-964d-4cd9-89cd-a84729456578",
   "metadata": {},
   "source": [
    "**Objectives:**<br>- List popular languages for Data Science<br>- list data science libraries<br>- a table of Data Science tools<br>- multiply and add numbers"
   ]
  },
  {
   "cell_type": "markdown",
   "id": "3a89e0f1-bec1-4ad8-a3e6-8776d2b668e4",
   "metadata": {},
   "source": [
    "## Author\n",
    "Yun Hai"
   ]
  },
  {
   "cell_type": "markdown",
   "id": "ce09d030-3016-4494-8bac-4c81c36efa4e",
   "metadata": {},
   "source": [
    "Some popular languages:<br>1. Python<br>2. R<br>3. SQL<br>"
   ]
  },
  {
   "cell_type": "markdown",
   "id": "f198133c-7250-472b-ac91-457b7de79288",
   "metadata": {},
   "source": [
    "Common libraries:<br>1. Pandas<br>2. NumPy<br>3. Matplotlib<br>"
   ]
  },
  {
   "cell_type": "markdown",
   "id": "0aecde89-5aa9-4a87-b7d9-306cd10718bd",
   "metadata": {},
   "source": [
    "| Data Science Tools |\n",
    "|--------------------|\n",
    "| Jupyter Notebook   |\n",
    "| RStudio            |\n",
    "| VS Code            |"
   ]
  },
  {
   "cell_type": "markdown",
   "id": "f34a6826-91bb-411b-805d-17a5df5307de",
   "metadata": {},
   "source": [
    "### Below are arithmetic examples in Python"
   ]
  },
  {
   "cell_type": "code",
   "execution_count": 2,
   "id": "eb02794a-b239-4d24-9b52-42275feff671",
   "metadata": {},
   "outputs": [
    {
     "data": {
      "text/plain": [
       "17"
      ]
     },
     "execution_count": 2,
     "metadata": {},
     "output_type": "execute_result"
    }
   ],
   "source": [
    "# Multiply and add\n",
    "(3 * 4)+5"
   ]
  },
  {
   "cell_type": "code",
   "execution_count": 3,
   "id": "ed9d941e-ed6f-4657-acbf-2282a8e0eea4",
   "metadata": {},
   "outputs": [
    {
     "data": {
      "text/plain": [
       "3.3333333333333335"
      ]
     },
     "execution_count": 3,
     "metadata": {},
     "output_type": "execute_result"
    }
   ],
   "source": [
    "# Convert minutes to hours\n",
    "200 / 60"
   ]
  },
  {
   "cell_type": "code",
   "execution_count": null,
   "id": "59b84ae5-3799-4fea-b420-fb9e090052c4",
   "metadata": {},
   "outputs": [],
   "source": []
  }
 ],
 "metadata": {
  "kernelspec": {
   "display_name": "Python 3 (ipykernel)",
   "language": "python",
   "name": "python3"
  },
  "language_info": {
   "codemirror_mode": {
    "name": "ipython",
    "version": 3
   },
   "file_extension": ".py",
   "mimetype": "text/x-python",
   "name": "python",
   "nbconvert_exporter": "python",
   "pygments_lexer": "ipython3",
   "version": "3.12.8"
  }
 },
 "nbformat": 4,
 "nbformat_minor": 5
}
